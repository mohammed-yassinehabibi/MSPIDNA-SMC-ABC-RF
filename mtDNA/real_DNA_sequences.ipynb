{
 "cells": [
  {
   "cell_type": "code",
   "execution_count": 1,
   "metadata": {},
   "outputs": [],
   "source": [
    "import os\n",
    "import numpy as np\n",
    "import pandas as pd\n",
    "import torch\n",
    "from tqdm import tqdm\n",
    "import msprime\n",
    "import multiprocessing\n",
    "from torch.utils.data import TensorDataset"
   ]
  },
  {
   "cell_type": "markdown",
   "metadata": {},
   "source": [
    "# FASTA DNA Sequences -> torch"
   ]
  },
  {
   "cell_type": "code",
   "execution_count": 2,
   "metadata": {},
   "outputs": [],
   "source": [
    "def get_sequence(lines):\n",
    "    sequence = \"\"\n",
    "    for i in range(1,len(lines)):\n",
    "        sequence += lines[i][:-1]\n",
    "    return sequence"
   ]
  },
  {
   "cell_type": "code",
   "execution_count": 3,
   "metadata": {},
   "outputs": [
    {
     "name": "stdout",
     "output_type": "stream",
     "text": [
      "16569\n"
     ]
    }
   ],
   "source": [
    "#Get the master sequence which we will assume to be the ancestor\n",
    "file = open(\"mtDNA/master_sequence.fasta\", 'r')\n",
    "lines = file.readlines()\n",
    "ancestral_seq = get_sequence(lines)\n",
    "ancestral_seq = list(ancestral_seq)\n",
    "print(len(ancestral_seq))"
   ]
  },
  {
   "cell_type": "markdown",
   "metadata": {},
   "source": [
    "## Root distribution to choose, count from the ancestor"
   ]
  },
  {
   "cell_type": "code",
   "execution_count": 4,
   "metadata": {},
   "outputs": [
    {
     "name": "stdout",
     "output_type": "stream",
     "text": [
      "P(A) = 0.32\n",
      "P(T) = 0.23\n",
      "P(C) = 0.29\n",
      "P(G) = 0.16\n"
     ]
    }
   ],
   "source": [
    "ancestral_seq_cut = ancestral_seq[:4000]\n",
    "\n",
    "print(f\"P(A) = {ancestral_seq_cut.count('A')/len(ancestral_seq_cut):.2f}\")\n",
    "print(f\"P(T) = {ancestral_seq_cut.count('T')/len(ancestral_seq_cut):.2f}\")\n",
    "print(f\"P(C) = {ancestral_seq_cut.count('C')/len(ancestral_seq_cut):.2f}\")\n",
    "print(f\"P(G) = {ancestral_seq_cut.count('G')/len(ancestral_seq_cut):.2f}\")"
   ]
  },
  {
   "cell_type": "code",
   "execution_count": 5,
   "metadata": {},
   "outputs": [
    {
     "name": "stdout",
     "output_type": "stream",
     "text": [
      "3106\n"
     ]
    }
   ],
   "source": [
    "for i in range(len(ancestral_seq)):\n",
    "    if ancestral_seq[i] == 'N':\n",
    "        print(i)\n",
    "ancestral_seq[3106] = 'A'"
   ]
  },
  {
   "cell_type": "code",
   "execution_count": 6,
   "metadata": {},
   "outputs": [],
   "source": [
    "alleles = [\"A\", \"T\", \"C\", \"G\", \"N\"]\n",
    "numbers = {allele: i for i, allele in enumerate(alleles)}\n",
    "numbers[\"N\"] = 0\n",
    "ancestral_seq_cut_numbers = [numbers[allele] for allele in ancestral_seq_cut]"
   ]
  },
  {
   "cell_type": "markdown",
   "metadata": {},
   "source": [
    "# From csv to txt"
   ]
  },
  {
   "cell_type": "code",
   "execution_count": 8,
   "metadata": {},
   "outputs": [],
   "source": [
    "#Load the position_informed_mitochondirial_mutations dataset\n",
    "df = pd.read_csv(\"mtDNA/position_informed_mitochondirial_mutations.csv\", sep=\";\")\n",
    "snp_pos = [df[\"Variants\"][i].split(\"_\") for i in range(len(df))]"
   ]
  },
  {
   "cell_type": "code",
   "execution_count": 9,
   "metadata": {},
   "outputs": [],
   "source": [
    "#We delete mutations that are amplifications\n",
    "to_drop = [[j for j in range(len(snp_pos[i])) if (snp_pos[i][j].count(\"A\")+snp_pos[i][j].count(\"C\")+snp_pos[i][j].count(\"T\")+snp_pos[i][j].count(\"G\")+snp_pos[i][j].count(\"d\"))>1] for i in range(len(snp_pos))]\n",
    "for i in range(len(to_drop)):\n",
    "    for j in reversed(to_drop[i]):  # To avoid index error/complications\n",
    "        snp_pos[i].pop(j)"
   ]
  },
  {
   "cell_type": "code",
   "execution_count": 10,
   "metadata": {},
   "outputs": [
    {
     "name": "stdout",
     "output_type": "stream",
     "text": [
      "There are 5351 mutations in the dataset\n",
      "There are 477 SNPs in the dataset\n",
      "Total count: 5351\n",
      "{'A': {'A': 0, 'T': 103, 'C': 64, 'G': 1680}, 'T': {'A': 24, 'T': 0, 'C': 1516, 'G': 18}, 'C': {'A': 21, 'T': 921, 'C': 0, 'G': 19}, 'G': {'A': 970, 'T': 3, 'C': 12, 'G': 0}}\n"
     ]
    }
   ],
   "source": [
    "#We create the list of sequences \n",
    "sequences = [ancestral_seq.copy() for _ in range(len(snp_pos))]\n",
    "pos_count = [0 for _ in range(len(ancestral_seq))]\n",
    "count = 0\n",
    "for i in range(len(snp_pos)):\n",
    "    for j in range(len(snp_pos[i])):\n",
    "        if int(snp_pos[i][j][:-1])>len(ancestral_seq):\n",
    "            raise ValueError(\"The snp position is greater than the length of the ancestral sequence\")\n",
    "        if int(snp_pos[i][j][:-1])<1:\n",
    "            raise ValueError(\"The snp position is smaller than 1\")\n",
    "        if snp_pos[i][j][-1]==ancestral_seq[int(snp_pos[i][j][:-1])-1]:\n",
    "            raise ValueError(f\"The ancestral sequence is the same as the mutated sequence, i={i}, j={j}\")\n",
    "        sequences[i][int(snp_pos[i][j][:-1])-1] = snp_pos[i][j][-1]\n",
    "        pos_count[int(snp_pos[i][j][:-1])-1] += 1\n",
    "        count +=1\n",
    "print(f\"There are {count} mutations in the dataset\")\n",
    "pos = [i for i in range(len(pos_count)) if pos_count[i]>0]\n",
    "print(f\"There are {len(pos)} SNPs in the dataset\")\n",
    "#Count specific mutations from a nucleotide to another\n",
    "alleles = [\"A\", \"T\", \"C\", \"G\"]\n",
    "count = {ancestral_allele: {new_allele: 0 for new_allele in alleles} for ancestral_allele in alleles}\n",
    "total_count = 0\n",
    "for i in range(len(snp_pos)):\n",
    "    for j in range(len(snp_pos[i])):\n",
    "        mutation_pos = int(snp_pos[i][j][:-1]) - 1\n",
    "        if mutation_pos in pos:\n",
    "            total_count +=1\n",
    "            count[ancestral_seq[int(snp_pos[i][j][:-1])-1]][snp_pos[i][j][-1]] +=1\n",
    "\n",
    "print(f\"Total count: {total_count}\")\n",
    "print(count)"
   ]
  },
  {
   "cell_type": "code",
   "execution_count": 11,
   "metadata": {},
   "outputs": [],
   "source": [
    "#Export sequences with number 0,1,2,3\n",
    "sequences = sequences[:100]\n",
    "sequences_cut_numbers = [[numbers[allele] for allele in sequence[:4000]] for sequence in sequences]\n",
    "torch.save(sequences_cut_numbers, \"real_descendants.pt\")\n",
    "torch.save(ancestral_seq_cut_numbers, \"real_ancestor.pt\")"
   ]
  },
  {
   "cell_type": "code",
   "execution_count": 12,
   "metadata": {},
   "outputs": [
    {
     "name": "stdout",
     "output_type": "stream",
     "text": [
      "There are 93 SNPs in the first 4000 bp\n",
      "There are 1557 mutations in the first 4000 bp\n",
      "Total count: 1557\n",
      "{'A': {'A': 0, 'T': 6, 'C': 0, 'G': 678}, 'T': {'A': 11, 'T': 0, 'C': 353, 'G': 0}, 'C': {'A': 0, 'T': 91, 'C': 0, 'G': 0}, 'G': {'A': 409, 'T': 0, 'C': 9, 'G': 0}}\n"
     ]
    }
   ],
   "source": [
    "#ONLY FIRST 4000p\n",
    "pos = [i for i in pos if i < 4000]\n",
    "print(f\"There are {len(pos)} SNPs in the first 4000 bp\")\n",
    "count = sum([pos_count[i] for i in pos])\n",
    "print(f\"There are {count} mutations in the first 4000 bp\")\n",
    "#Count specific mutations from a nucleotide to another\n",
    "alleles = [\"A\", \"T\", \"C\", \"G\"]\n",
    "count = {ancestral_allele: {new_allele: 0 for new_allele in alleles} for ancestral_allele in alleles}\n",
    "total_count = 0\n",
    "for i in range(len(snp_pos)):\n",
    "    for j in range(len(snp_pos[i])):\n",
    "        mutation_pos = int(snp_pos[i][j][:-1]) - 1\n",
    "        if mutation_pos in pos:\n",
    "            total_count +=1\n",
    "            count[ancestral_seq[int(snp_pos[i][j][:-1])-1]][snp_pos[i][j][-1]] +=1\n",
    "\n",
    "print(f\"Total count: {total_count}\")\n",
    "print(count)"
   ]
  },
  {
   "cell_type": "code",
   "execution_count": 13,
   "metadata": {},
   "outputs": [],
   "source": [
    "vects = np.eye(16)\n",
    "alleles = [\"A\", \"T\", \"C\", \"G\"]\n",
    "keys = [\"AA\", \"AT\", \"AC\", \"AG\", \"TA\", \"TT\", \"TC\", \"TG\", \"CA\", \"CT\", \"CC\", \"CG\", \"GA\", \"GT\", \"GC\", \"GG\"]\n",
    "vects = {key: vects[i] for i, key in enumerate(keys)}"
   ]
  },
  {
   "cell_type": "code",
   "execution_count": 14,
   "metadata": {},
   "outputs": [
    {
     "name": "stdout",
     "output_type": "stream",
     "text": [
      "P(A) = 0.3239\n",
      "P(T) = 0.2249\n",
      "P(C) = 0.2876\n",
      "P(G) = 0.1636\n"
     ]
    }
   ],
   "source": [
    "#count frequency of each allele in the dataset, first 4000bp\n",
    "sequences_cut = [sequences[i][:4000] for i in range(len(sequences))]\n",
    "p_a = list(np.array(sequences_cut).flatten()).count(\"A\")/np.array(sequences_cut).flatten().shape[0]\n",
    "p_t = list(np.array(sequences_cut).flatten()).count(\"T\")/np.array(sequences_cut).flatten().shape[0]\n",
    "p_c = list(np.array(sequences_cut).flatten()).count(\"C\")/np.array(sequences_cut).flatten().shape[0]\n",
    "p_g = list(np.array(sequences_cut).flatten()).count(\"G\")/np.array(sequences_cut).flatten().shape[0]\n",
    "print(f\"P(A) = {p_a:.4f}\")\n",
    "print(f\"P(T) = {p_t:.4f}\")\n",
    "print(f\"P(C) = {p_c:.4f}\")\n",
    "print(f\"P(G) = {p_g:.4f}\")"
   ]
  },
  {
   "cell_type": "code",
   "execution_count": 15,
   "metadata": {},
   "outputs": [
    {
     "name": "stdout",
     "output_type": "stream",
     "text": [
      "(100, 93, 16)\n",
      "torch.Size([1, 101, 4000, 16]) torch.Size([1, 17])\n"
     ]
    }
   ],
   "source": [
    "#Keep only the SNPs, not full sequences until position 4000\n",
    "ancestral_seq_SNPs = [ancestral_seq[i] for i in pos]\n",
    "SNPs = [[sequences[i][j] for j in pos] for i in range(len(sequences))]\n",
    "for i in range(len(SNPs)):\n",
    "    if len(SNPs[i])!=len(SNPs[0]):\n",
    "        raise ValueError(f\"SNP {i} has a different number of SNPs than SNP 0\")\n",
    "snps = np.empty((len(sequences), len(pos) , 16), dtype=np.uint8)\n",
    "for i in range(len(sequences)):\n",
    "    for j in range(len(ancestral_seq_SNPs)):\n",
    "        snps[i][j] = vects[ancestral_seq_SNPs[j]+SNPs[i][j]]\n",
    "print(snps.shape)\n",
    "\n",
    "x = np.concatenate([np.expand_dims(np.array(pos).repeat(16).reshape(-1,16), axis=0),snps]) #Concatenate Positions and SNPs\n",
    "zeros_to_add = 4_000 - x.shape[1]\n",
    "x = np.pad(x, ((0, 0), (0, zeros_to_add), (0, 0)), mode='constant') # Make the sequences 4000bp long\n",
    "x = torch.from_numpy(x)[:101] #Keep 100 first sequences + pos row\n",
    "x = x.unsqueeze(0) #Add a dimension for the batch\n",
    "Y = torch.zeros(x.shape[0], 17) #Create the Y tensor (even though we don't know the labels, only for fitting purposes)\n",
    "print(x.shape, Y.shape)"
   ]
  },
  {
   "cell_type": "code",
   "execution_count": 16,
   "metadata": {},
   "outputs": [],
   "source": [
    "torch.save(TensorDataset(x,Y), \"mtDNA/real_data/test_dataset_mtDNA_L4.pt\")"
   ]
  },
  {
   "cell_type": "code",
   "execution_count": 17,
   "metadata": {},
   "outputs": [
    {
     "name": "stdout",
     "output_type": "stream",
     "text": [
      "(100, 16569, 16)\n",
      "torch.Size([1, 101, 4000, 16]) torch.Size([1, 17])\n"
     ]
    }
   ],
   "source": [
    "#Keep full sequences\n",
    "snps = np.empty((len(sequences), len(sequences[0]) , 16), dtype=np.uint8)\n",
    "for i in range(len(sequences)):\n",
    "    for j in range(len(sequences[0])):\n",
    "        snps[i][j] = vects[ancestral_seq[j]+sequences[i][j]]\n",
    "print(snps.shape)\n",
    "\n",
    "x = np.concatenate([np.expand_dims(np.array(np.arange(4000)).repeat(16).reshape(-1,16), axis=0),snps[:,:4000]]) #Concatenate Positions and SNPs\n",
    "x = torch.from_numpy(x)[:101] #Keep 100 first rows\n",
    "x = x.unsqueeze(0) #Add a dimension for the batch\n",
    "Y = torch.zeros(x.shape[0], 17) #Create the Y tensor (even though we don't know the labels, only for fitting purposes)\n",
    "print(x.shape, Y.shape)"
   ]
  },
  {
   "cell_type": "code",
   "execution_count": 18,
   "metadata": {},
   "outputs": [],
   "source": [
    "torch.save(TensorDataset(x,Y), \"mtDNA/full_seq_real_data/test_dataset_mtDNA_L4.pt\")"
   ]
  }
 ],
 "metadata": {
  "kernelspec": {
   "display_name": "Python 3",
   "language": "python",
   "name": "python3"
  },
  "language_info": {
   "codemirror_mode": {
    "name": "ipython",
    "version": 3
   },
   "file_extension": ".py",
   "mimetype": "text/x-python",
   "name": "python",
   "nbconvert_exporter": "python",
   "pygments_lexer": "ipython3",
   "version": "3.9.18"
  }
 },
 "nbformat": 4,
 "nbformat_minor": 2
}
